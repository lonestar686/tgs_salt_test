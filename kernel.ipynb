{
 "cells": [
  {
   "cell_type": "markdown",
   "metadata": {
    "_uuid": "c8fc6c3e84f282d0e6f664caf9848297b6c62a16"
   },
   "source": [
    "# U-net with Resnet Blocks v3 and StratifiedKFold \n",
    "* Make the validation data distribution more close to train and possibly final test data\n",
    "* For demonstration only, can use with previous  version or other models to get higher score: \n",
    "\n",
    "  https://www.kaggle.com/shaojiaxin/u-net-with-simple-resnet-blocks\n",
    "  \n",
    "  https://www.kaggle.com/shaojiaxin/u-net-with-simple-resnet-blocks-v2-new-loss     \n",
    "        \n"
   ]
  },
  {
   "cell_type": "code",
   "execution_count": 1,
   "metadata": {
    "_cell_guid": "b1076dfc-b9ad-4769-8c92-a6c4dae69d19",
    "_uuid": "8f2839f25d086af736a60e9eeb907d3b93b6e0e5"
   },
   "outputs": [],
   "source": [
    "import os\n",
    "import sys\n",
    "import random\n",
    "\n",
    "import pandas as pd\n",
    "import numpy as np\n",
    "import matplotlib.pyplot as plt\n",
    "plt.style.use('seaborn-white')\n",
    "import seaborn as sns\n",
    "sns.set_style(\"white\")\n",
    "\n",
    "%matplotlib inline\n",
    "\n",
    "import cv2\n",
    "from sklearn.model_selection import StratifiedKFold\n",
    "\n",
    "from tqdm import tqdm_notebook #, tnrange\n",
    "#from itertools import chain\n",
    "from skimage.io import imread, imshow #, concatenate_images\n",
    "from skimage.transform import resize\n",
    "from skimage.morphology import label\n",
    "\n",
    "import tensorflow as tf\n",
    "\n",
    "from tensorflow.keras.models import Model, load_model, save_model\n",
    "from tensorflow.keras.layers import Input,Dropout,BatchNormalization,Activation,Add\n",
    "from tensorflow.keras.layers import Lambda\n",
    "from tensorflow.keras.layers import Conv2D, Conv2DTranspose\n",
    "from tensorflow.keras.layers import MaxPooling2D\n",
    "from tensorflow.keras.layers import concatenate\n",
    "from tensorflow.keras.callbacks import EarlyStopping, ModelCheckpoint, ReduceLROnPlateau\n",
    "from tensorflow.keras import backend as K\n",
    "from tensorflow.keras import optimizers\n",
    "\n",
    "from tensorflow.keras.preprocessing.image import array_to_img, img_to_array, load_img#,save_img\n",
    "\n",
    "import time\n",
    "t_start = time.time()"
   ]
  },
  {
   "cell_type": "code",
   "execution_count": 2,
   "metadata": {
    "_uuid": "2c36d16775556c3e358edefab5710dc1541ccfc4"
   },
   "outputs": [
    {
     "name": "stdout",
     "output_type": "stream",
     "text": [
      "Unet_resnet_v1.model\n",
      "Unet_resnet_v1.csv\n"
     ]
    }
   ],
   "source": [
    "# total folds numbers for cross-validation\n",
    "cv_total = 5\n",
    "#cv_index = 1 -5\n",
    "\n",
    "# model version\n",
    "version = 1\n",
    "basic_name_ori = f'Unet_resnet_v{version}'\n",
    "save_model_name = basic_name_ori + '.model'\n",
    "submission_file = basic_name_ori + '.csv'\n",
    "\n",
    "print(save_model_name)\n",
    "print(submission_file)"
   ]
  },
  {
   "cell_type": "code",
   "execution_count": 3,
   "metadata": {
    "_uuid": "63c469280793719bf311d51e6ba2cdaea157d175"
   },
   "outputs": [],
   "source": [
    "img_size_ori = 101\n",
    "img_size_target = 101\n",
    "\n",
    "def upsample(img):# not used\n",
    "    return img\n",
    "    \n",
    "def downsample(img):# not used\n",
    "    return img"
   ]
  },
  {
   "cell_type": "markdown",
   "metadata": {},
   "source": [
    "## Loading of training/testing ids and depths\n",
    "Reading the training data and the depths, store them in a DataFrame. Loading a test DataFrame too with entries from depth not in train."
   ]
  },
  {
   "cell_type": "code",
   "execution_count": 4,
   "metadata": {},
   "outputs": [],
   "source": [
    "# data directory\n",
    "data_dir = '../../input'"
   ]
  },
  {
   "cell_type": "code",
   "execution_count": 5,
   "metadata": {
    "_uuid": "1a64babef03b9a0dbc94387a1dad54971c3e028d"
   },
   "outputs": [],
   "source": [
    "# Loading of training/testing ids and depths\n",
    "train_df = pd.read_csv(os.path.join(data_dir, \"train.csv\"), index_col=\"id\", usecols=[0])\n",
    "depths_df = pd.read_csv(os.path.join(data_dir, \"depths.csv\"), index_col=\"id\")"
   ]
  },
  {
   "cell_type": "code",
   "execution_count": 6,
   "metadata": {},
   "outputs": [
    {
     "data": {
      "text/html": [
       "<div>\n",
       "<style scoped>\n",
       "    .dataframe tbody tr th:only-of-type {\n",
       "        vertical-align: middle;\n",
       "    }\n",
       "\n",
       "    .dataframe tbody tr th {\n",
       "        vertical-align: top;\n",
       "    }\n",
       "\n",
       "    .dataframe thead th {\n",
       "        text-align: right;\n",
       "    }\n",
       "</style>\n",
       "<table border=\"1\" class=\"dataframe\">\n",
       "  <thead>\n",
       "    <tr style=\"text-align: right;\">\n",
       "      <th></th>\n",
       "    </tr>\n",
       "    <tr>\n",
       "      <th>id</th>\n",
       "    </tr>\n",
       "  </thead>\n",
       "  <tbody>\n",
       "    <tr>\n",
       "      <th>575d24d81d</th>\n",
       "    </tr>\n",
       "    <tr>\n",
       "      <th>a266a2a9df</th>\n",
       "    </tr>\n",
       "    <tr>\n",
       "      <th>75efad62c1</th>\n",
       "    </tr>\n",
       "  </tbody>\n",
       "</table>\n",
       "</div>"
      ],
      "text/plain": [
       "Empty DataFrame\n",
       "Columns: []\n",
       "Index: [575d24d81d, a266a2a9df, 75efad62c1]"
      ]
     },
     "execution_count": 6,
     "metadata": {},
     "output_type": "execute_result"
    }
   ],
   "source": [
    "train_df.head(3)"
   ]
  },
  {
   "cell_type": "code",
   "execution_count": 7,
   "metadata": {},
   "outputs": [
    {
     "data": {
      "text/html": [
       "<div>\n",
       "<style scoped>\n",
       "    .dataframe tbody tr th:only-of-type {\n",
       "        vertical-align: middle;\n",
       "    }\n",
       "\n",
       "    .dataframe tbody tr th {\n",
       "        vertical-align: top;\n",
       "    }\n",
       "\n",
       "    .dataframe thead th {\n",
       "        text-align: right;\n",
       "    }\n",
       "</style>\n",
       "<table border=\"1\" class=\"dataframe\">\n",
       "  <thead>\n",
       "    <tr style=\"text-align: right;\">\n",
       "      <th></th>\n",
       "      <th>z</th>\n",
       "    </tr>\n",
       "    <tr>\n",
       "      <th>id</th>\n",
       "      <th></th>\n",
       "    </tr>\n",
       "  </thead>\n",
       "  <tbody>\n",
       "    <tr>\n",
       "      <th>4ac19fb269</th>\n",
       "      <td>306</td>\n",
       "    </tr>\n",
       "    <tr>\n",
       "      <th>1825fadf99</th>\n",
       "      <td>157</td>\n",
       "    </tr>\n",
       "    <tr>\n",
       "      <th>f59821d067</th>\n",
       "      <td>305</td>\n",
       "    </tr>\n",
       "  </tbody>\n",
       "</table>\n",
       "</div>"
      ],
      "text/plain": [
       "              z\n",
       "id             \n",
       "4ac19fb269  306\n",
       "1825fadf99  157\n",
       "f59821d067  305"
      ]
     },
     "execution_count": 7,
     "metadata": {},
     "output_type": "execute_result"
    }
   ],
   "source": [
    "depths_df.head(3)"
   ]
  },
  {
   "cell_type": "code",
   "execution_count": 8,
   "metadata": {
    "_uuid": "1a64babef03b9a0dbc94387a1dad54971c3e028d"
   },
   "outputs": [
    {
     "data": {
      "text/html": [
       "<div>\n",
       "<style scoped>\n",
       "    .dataframe tbody tr th:only-of-type {\n",
       "        vertical-align: middle;\n",
       "    }\n",
       "\n",
       "    .dataframe tbody tr th {\n",
       "        vertical-align: top;\n",
       "    }\n",
       "\n",
       "    .dataframe thead th {\n",
       "        text-align: right;\n",
       "    }\n",
       "</style>\n",
       "<table border=\"1\" class=\"dataframe\">\n",
       "  <thead>\n",
       "    <tr style=\"text-align: right;\">\n",
       "      <th></th>\n",
       "      <th>z</th>\n",
       "    </tr>\n",
       "    <tr>\n",
       "      <th>id</th>\n",
       "      <th></th>\n",
       "    </tr>\n",
       "  </thead>\n",
       "  <tbody>\n",
       "    <tr>\n",
       "      <th>575d24d81d</th>\n",
       "      <td>843</td>\n",
       "    </tr>\n",
       "    <tr>\n",
       "      <th>a266a2a9df</th>\n",
       "      <td>794</td>\n",
       "    </tr>\n",
       "    <tr>\n",
       "      <th>75efad62c1</th>\n",
       "      <td>468</td>\n",
       "    </tr>\n",
       "  </tbody>\n",
       "</table>\n",
       "</div>"
      ],
      "text/plain": [
       "              z\n",
       "id             \n",
       "575d24d81d  843\n",
       "a266a2a9df  794\n",
       "75efad62c1  468"
      ]
     },
     "execution_count": 8,
     "metadata": {},
     "output_type": "execute_result"
    }
   ],
   "source": [
    "train_df = train_df.join(depths_df)\n",
    "train_df.head(3)"
   ]
  },
  {
   "cell_type": "code",
   "execution_count": 9,
   "metadata": {
    "_uuid": "1a64babef03b9a0dbc94387a1dad54971c3e028d"
   },
   "outputs": [
    {
     "data": {
      "text/plain": [
       "(4000, 18000)"
      ]
     },
     "execution_count": 9,
     "metadata": {},
     "output_type": "execute_result"
    }
   ],
   "source": [
    "test_df = depths_df[~depths_df.index.isin(train_df.index)]\n",
    "\n",
    "len(train_df), len(test_df)"
   ]
  },
  {
   "cell_type": "markdown",
   "metadata": {},
   "source": [
    "## Load images and their corresponding masks\n",
    "load the image snad masks into the DataFrame and divide the pixel values by 255."
   ]
  },
  {
   "cell_type": "code",
   "execution_count": 10,
   "metadata": {
    "_uuid": "80c3768717007fb5f087d3e01619f1a9f9a3beac"
   },
   "outputs": [
    {
     "data": {
      "application/vnd.jupyter.widget-view+json": {
       "model_id": "391eb24205ed4f8cb35e15630205bb24",
       "version_major": 2,
       "version_minor": 0
      },
      "text/plain": [
       "HBox(children=(IntProgress(value=0, max=4000), HTML(value='')))"
      ]
     },
     "metadata": {},
     "output_type": "display_data"
    },
    {
     "name": "stdout",
     "output_type": "stream",
     "text": [
      "\n"
     ]
    }
   ],
   "source": [
    "train_df[\"images\"] = [np.array(load_img(os.path.join(data_dir, \"train/images/{}.png\".format(idx)), color_mode='grayscale')) / 255 for idx in tqdm_notebook(train_df.index)]"
   ]
  },
  {
   "cell_type": "code",
   "execution_count": 11,
   "metadata": {
    "_uuid": "9f55103f7daad6f03ec874c643077fe686c31bee"
   },
   "outputs": [
    {
     "data": {
      "application/vnd.jupyter.widget-view+json": {
       "model_id": "4e81a21f634b4ac7bd07b1dce1ae8e51",
       "version_major": 2,
       "version_minor": 0
      },
      "text/plain": [
       "HBox(children=(IntProgress(value=0, max=4000), HTML(value='')))"
      ]
     },
     "metadata": {},
     "output_type": "display_data"
    },
    {
     "name": "stdout",
     "output_type": "stream",
     "text": [
      "\n"
     ]
    }
   ],
   "source": [
    "train_df[\"masks\"] = [np.array(load_img(os.path.join(data_dir, \"train/masks/{}.png\".format(idx)), color_mode='grayscale')) / 255 for idx in tqdm_notebook(train_df.index)]"
   ]
  },
  {
   "cell_type": "markdown",
   "metadata": {
    "_uuid": "c916289a52d0576816502db92470c5d47926c9e6"
   },
   "source": [
    "## Calculate the salt coverage and salt coverage classes\n",
    "This mask type is used for stratify, the difficuly of training different mask type is different.\n",
    "\n",
    "Counting the number of salt pixels in the masks and dividing them by the image size. Also create 11 coverage classes, -0.1 having no salt at all to 1.0 being salt only. Plotting the distribution of coverages and coverage classes, and the class against the raw coverage.\n",
    "\n",
    "* Reference  from Heng's discussion, search \"error analysis\" in the following link\n",
    "\n",
    "https://www.kaggle.com/c/tgs-salt-identification-challenge/discussion/63984#382657****"
   ]
  },
  {
   "cell_type": "code",
   "execution_count": 12,
   "metadata": {
    "_uuid": "030d17f898e7d9b7eccfe8726dd1fb1407ec98cd"
   },
   "outputs": [],
   "source": [
    "#### Reference  from Heng's discussion\n",
    "# https://www.kaggle.com/c/tgs-salt-identification-challenge/discussion/63984#382657\n",
    "def get_mask_type(mask, img_size=img_size_target, border=10):\n",
    "    outer = np.zeros((img_size-2*border, img_size-2*border), np.float32)\n",
    "    outer = cv2.copyMakeBorder(outer, border, border, border, border, borderType = cv2.BORDER_CONSTANT, value = 1)\n",
    "\n",
    "    cover = (mask>0.5).sum()\n",
    "    if cover < 8:\n",
    "        return 0 # empty\n",
    "    if cover == ((mask*outer) > 0.5).sum():\n",
    "        return 1 #border\n",
    "    if np.all(mask==mask[0]):\n",
    "        return 2 #vertical\n",
    "\n",
    "    percentage = cover/(101*101)\n",
    "    if percentage < 0.15:\n",
    "        return 3\n",
    "    elif percentage < 0.25:\n",
    "        return 4\n",
    "    elif percentage < 0.50:\n",
    "        return 5\n",
    "    elif percentage < 0.75:\n",
    "        return 6\n",
    "    else:\n",
    "        return 7\n",
    "\n",
    "def histcoverage(coverage):\n",
    "    histall = np.zeros((1,8))\n",
    "    for c in coverage:\n",
    "        histall[0,c] += 1\n",
    "    return histall\n",
    "\n",
    "train_df[\"coverage\"] = train_df.masks.map(np.sum) / pow(img_size_target, 2)\n",
    "\n",
    "train_df[\"coverage_class\"] = train_df.masks.map(get_mask_type)\n"
   ]
  },
  {
   "cell_type": "markdown",
   "metadata": {},
   "source": [
    "## Create train/validation split stratified by salt coverage\n",
    "Using the salt coverage as a stratification criterion. Also shows an image to check for correct upsampling."
   ]
  },
  {
   "cell_type": "code",
   "execution_count": 13,
   "metadata": {
    "_uuid": "0bbed9f883dd9c6ce22767c6a86bce4fe12b8a45"
   },
   "outputs": [
    {
     "name": "stdout",
     "output_type": "stream",
     "text": [
      "(3198,) (802,)\n",
      "(3199,) (801,)\n",
      "(3199,) (801,)\n",
      "(3200,) (800,)\n",
      "(3204,) (796,)\n"
     ]
    }
   ],
   "source": [
    "train_all = []\n",
    "evaluate_all = []\n",
    "\n",
    "# Stratified K-Folds cross-validator\n",
    "# Provides train/test indices to split data in train/test sets.\n",
    "# This cross-validation object is a variation of KFold that returns stratified folds. \n",
    "# The folds are made by preserving the percentage of samples for each class.\n",
    "skf = StratifiedKFold(n_splits=cv_total, random_state=1234, shuffle=True)\n",
    "for train_index, evaluate_index in skf.split(train_df.index.values, train_df.coverage_class):\n",
    "    train_all.append(train_index)\n",
    "    evaluate_all.append(evaluate_index)\n",
    "    print(train_index.shape,evaluate_index.shape) # the shape is slightly different in different cv, it's OK"
   ]
  },
  {
   "cell_type": "code",
   "execution_count": 14,
   "metadata": {
    "_uuid": "738cb1bf628e12bb471a5a5d36cd68814004f5a5"
   },
   "outputs": [],
   "source": [
    "def get_cv_data(cv_index):\n",
    "    train_index = train_all[cv_index-1]\n",
    "    evaluate_index = evaluate_all[cv_index-1]\n",
    "    x_train = np.array(train_df.images[train_index].map(upsample).tolist()).reshape(-1, img_size_target, img_size_target, 1)\n",
    "    y_train = np.array(train_df.masks[train_index].map(upsample).tolist()).reshape(-1, img_size_target, img_size_target, 1)\n",
    "    x_valid = np.array(train_df.images[evaluate_index].map(upsample).tolist()).reshape(-1, img_size_target, img_size_target, 1)\n",
    "    y_valid = np.array(train_df.masks[evaluate_index].map(upsample).tolist()).reshape(-1, img_size_target, img_size_target, 1)\n",
    "    return x_train,y_train,x_valid,y_valid"
   ]
  },
  {
   "cell_type": "markdown",
   "metadata": {
    "_uuid": "2956f050f3aa78830ca41df34ff948deea9c6a82"
   },
   "source": [
    "## Show  some examples of different mask"
   ]
  },
  {
   "cell_type": "code",
   "execution_count": 15,
   "metadata": {
    "_uuid": "ecf001b66bdc494b3869c25ce26760705f25a9a0"
   },
   "outputs": [
    {
     "name": "stdout",
     "output_type": "stream",
     "text": [
      "(3198,) (802,)\n",
      "train cv1: number of each mask class = \n",
      " \t[[1279.  192.   84.  372.  179.  407.  334.  351.]]\n",
      "evaluate cv1: number of each mask class = \n",
      " \t [[320.  48.  22.  93.  45. 102.  84.  88.]]\n"
     ]
    },
    {
     "data": {
      "image/png": "[encoded data removed]",
      "text/plain": [
       "<Figure size 1728x432 with 16 Axes>"
      ]
     },
     "metadata": {
      "needs_background": "light"
     },
     "output_type": "display_data"
    }
   ],
   "source": [
    "cv_index = 1\n",
    "\n",
    "# for given fold index, obtain its indices for train/evaluation \n",
    "train_index = train_all[cv_index-1]\n",
    "evaluate_index = evaluate_all[cv_index-1]\n",
    "\n",
    "print(train_index.shape,evaluate_index.shape)\n",
    "\n",
    "# for train\n",
    "histall = histcoverage(train_df.coverage_class[train_index].values)\n",
    "print(f'train cv{cv_index}: number of each mask class = \\n \\t{histall}')\n",
    "\n",
    "# for evaluation\n",
    "histall_test = histcoverage(train_df.coverage_class[evaluate_index].values)\n",
    "print(f'evaluate cv{cv_index}: number of each mask class = \\n \\t {histall_test}')\n",
    "\n",
    "# show mask class example\n",
    "fig, axes = plt.subplots(nrows=2, ncols=8, figsize=(24, 6), sharex=True, sharey=True)\n",
    "\n",
    "# masks\n",
    "for c in range(8):\n",
    "    j= 0\n",
    "    for i in train_index:\n",
    "        if train_df.coverage_class[i] == c:\n",
    "            axes[j,c].imshow(np.array(train_df.masks[i])  )\n",
    "            axes[j,c].set_axis_off()\n",
    "            axes[j,c].set_title(f'class {c}')\n",
    "            j += 1\n",
    "            if(j>=2):\n",
    "                break"
   ]
  },
  {
   "cell_type": "markdown",
   "metadata": {
    "_uuid": "59f7f51e5b1a3afe84e689b473db575b5ecbb8c9"
   },
   "source": [
    "## Helper functions for Resnet blocks"
   ]
  },
  {
   "cell_type": "code",
   "execution_count": 16,
   "metadata": {
    "_uuid": "7fb577cdf27f365d4a912728c2a7654d0e60fac8"
   },
   "outputs": [],
   "source": [
    "def BatchActivate(x):\n",
    "    x = BatchNormalization()(x)\n",
    "    x = Activation('relu')(x)\n",
    "    return x\n",
    "\n",
    "def convolution_block(x, filters, size, strides=(1,1), padding='same', activation=True):\n",
    "    x = Conv2D(filters, size, strides=strides, padding=padding)(x)\n",
    "    if activation == True:\n",
    "        x = BatchActivate(x)\n",
    "    return x\n",
    "\n",
    "def residual_block(blockInput, num_filters=16, batch_activate = False):\n",
    "    x = BatchActivate(blockInput)\n",
    "    x = convolution_block(x, num_filters, (3,3) )\n",
    "    x = convolution_block(x, num_filters, (3,3), activation=False)\n",
    "    x = Add()([x, blockInput])\n",
    "    if batch_activate:\n",
    "        x = BatchActivate(x)\n",
    "    return x\n"
   ]
  },
  {
   "cell_type": "markdown",
   "metadata": {},
   "source": [
    "## Resnet model"
   ]
  },
  {
   "cell_type": "code",
   "execution_count": 17,
   "metadata": {
    "_uuid": "02967d71ee7f936254ab54acf2aa7c2e038a2b21"
   },
   "outputs": [],
   "source": [
    "# Build model\n",
    "def build_model(input_layer, start_neurons, DropoutRatio = 0.5):\n",
    "    # 101 -> 50\n",
    "    conv1 = Conv2D(start_neurons * 1, (3, 3), activation=None, padding=\"same\")(input_layer)\n",
    "    conv1 = residual_block(conv1,start_neurons * 1)\n",
    "    conv1 = residual_block(conv1,start_neurons * 1, True)\n",
    "    pool1 = MaxPooling2D((2, 2))(conv1)\n",
    "    pool1 = Dropout(DropoutRatio/2)(pool1)\n",
    "\n",
    "    # 50 -> 25\n",
    "    conv2 = Conv2D(start_neurons * 2, (3, 3), activation=None, padding=\"same\")(pool1)\n",
    "    conv2 = residual_block(conv2,start_neurons * 2)\n",
    "    conv2 = residual_block(conv2,start_neurons * 2, True)\n",
    "    pool2 = MaxPooling2D((2, 2))(conv2)\n",
    "    pool2 = Dropout(DropoutRatio)(pool2)\n",
    "\n",
    "    # 25 -> 12\n",
    "    conv3 = Conv2D(start_neurons * 4, (3, 3), activation=None, padding=\"same\")(pool2)\n",
    "    conv3 = residual_block(conv3,start_neurons * 4)\n",
    "    conv3 = residual_block(conv3,start_neurons * 4, True)\n",
    "    pool3 = MaxPooling2D((2, 2))(conv3)\n",
    "    pool3 = Dropout(DropoutRatio)(pool3)\n",
    "\n",
    "    # 12 -> 6\n",
    "    conv4 = Conv2D(start_neurons * 8, (3, 3), activation=None, padding=\"same\")(pool3)\n",
    "    conv4 = residual_block(conv4,start_neurons * 8)\n",
    "    conv4 = residual_block(conv4,start_neurons * 8, True)\n",
    "    pool4 = MaxPooling2D((2, 2))(conv4)\n",
    "    pool4 = Dropout(DropoutRatio)(pool4)\n",
    "\n",
    "    # Middle\n",
    "    convm = Conv2D(start_neurons * 16, (3, 3), activation=None, padding=\"same\")(pool4)\n",
    "    convm = residual_block(convm,start_neurons * 16)\n",
    "    convm = residual_block(convm,start_neurons * 16, True)\n",
    "    \n",
    "    # 6 -> 12\n",
    "    deconv4 = Conv2DTranspose(start_neurons * 8, (3, 3), strides=(2, 2), padding=\"same\")(convm)\n",
    "    uconv4 = concatenate([deconv4, conv4])\n",
    "    uconv4 = Dropout(DropoutRatio)(uconv4)\n",
    "    \n",
    "    uconv4 = Conv2D(start_neurons * 8, (3, 3), activation=None, padding=\"same\")(uconv4)\n",
    "    uconv4 = residual_block(uconv4,start_neurons * 8)\n",
    "    uconv4 = residual_block(uconv4,start_neurons * 8, True)\n",
    "    \n",
    "    # 12 -> 25\n",
    "    #deconv3 = Conv2DTranspose(start_neurons * 4, (3, 3), strides=(2, 2), padding=\"same\")(uconv4)\n",
    "    deconv3 = Conv2DTranspose(start_neurons * 4, (3, 3), strides=(2, 2), padding=\"valid\")(uconv4)\n",
    "    uconv3 = concatenate([deconv3, conv3])    \n",
    "    uconv3 = Dropout(DropoutRatio)(uconv3)\n",
    "    \n",
    "    uconv3 = Conv2D(start_neurons * 4, (3, 3), activation=None, padding=\"same\")(uconv3)\n",
    "    uconv3 = residual_block(uconv3,start_neurons * 4)\n",
    "    uconv3 = residual_block(uconv3,start_neurons * 4, True)\n",
    "\n",
    "    # 25 -> 50\n",
    "    deconv2 = Conv2DTranspose(start_neurons * 2, (3, 3), strides=(2, 2), padding=\"same\")(uconv3)\n",
    "    uconv2 = concatenate([deconv2, conv2])\n",
    "        \n",
    "    uconv2 = Dropout(DropoutRatio)(uconv2)\n",
    "    uconv2 = Conv2D(start_neurons * 2, (3, 3), activation=None, padding=\"same\")(uconv2)\n",
    "    uconv2 = residual_block(uconv2,start_neurons * 2)\n",
    "    uconv2 = residual_block(uconv2,start_neurons * 2, True)\n",
    "    \n",
    "    # 50 -> 101\n",
    "    #deconv1 = Conv2DTranspose(start_neurons * 1, (3, 3), strides=(2, 2), padding=\"same\")(uconv2)\n",
    "    deconv1 = Conv2DTranspose(start_neurons * 1, (3, 3), strides=(2, 2), padding=\"valid\")(uconv2)\n",
    "    uconv1 = concatenate([deconv1, conv1])\n",
    "    \n",
    "    uconv1 = Dropout(DropoutRatio)(uconv1)\n",
    "    uconv1 = Conv2D(start_neurons * 1, (3, 3), activation=None, padding=\"same\")(uconv1)\n",
    "    uconv1 = residual_block(uconv1,start_neurons * 1)\n",
    "    uconv1 = residual_block(uconv1,start_neurons * 1, True)\n",
    "    \n",
    "    #uconv1 = Dropout(DropoutRatio/2)(uconv1)\n",
    "    #output_layer = Conv2D(1, (1,1), padding=\"same\", activation=\"sigmoid\")(uconv1)\n",
    "    output_layer_noActi = Conv2D(1, (1,1), padding=\"same\", activation=None)(uconv1)\n",
    "    output_layer =  Activation('sigmoid')(output_layer_noActi)\n",
    "    \n",
    "    return output_layer"
   ]
  },
  {
   "cell_type": "markdown",
   "metadata": {},
   "source": [
    "## helper metric functions "
   ]
  },
  {
   "cell_type": "code",
   "execution_count": 18,
   "metadata": {
    "_uuid": "2bd5e479d3aa211bcb5fe32ce9c4d71cd012eefa"
   },
   "outputs": [],
   "source": [
    "def get_iou_vector(A, B):\n",
    "    A = np.squeeze(A) \n",
    "    B = np.squeeze(B) \n",
    "\n",
    "    batch_size = A.shape[0]\n",
    "\n",
    "    metric = []\n",
    "    for ib in range(batch_size):\n",
    "\n",
    "        t, p = A[ib]>0, B[ib]>0\n",
    "\n",
    "        if np.count_nonzero(t) == 0 and np.count_nonzero(p) > 0:\n",
    "            metric.append(0)\n",
    "            continue\n",
    "\n",
    "        if np.count_nonzero(t) >= 1 and np.count_nonzero(p) == 0:\n",
    "            metric.append(0)\n",
    "            continue\n",
    "\n",
    "        if np.count_nonzero(t) == 0 and np.count_nonzero(p) == 0:\n",
    "            metric.append(1)\n",
    "            continue\n",
    "        \n",
    "        intersection = np.logical_and(t, p)\n",
    "        union = np.logical_or(t, p)\n",
    "        iou = (np.sum(intersection > 0)  )/ (np.sum(union > 0) )\n",
    "\n",
    "        thresholds = np.arange(0.5, 1, 0.05)\n",
    "\n",
    "        s = []\n",
    "        for thresh in thresholds:\n",
    "            s.append(iou > thresh)\n",
    "        metric.append(np.mean(s))\n",
    "\n",
    "    return np.mean(metric)\n",
    "\n",
    "def my_iou_metric(label, pred):\n",
    "    return tf.py_func(get_iou_vector, [label, pred>0.5], tf.float64)\n",
    "\n",
    "def my_iou_metric_2(label, pred):\n",
    "    return tf.py_func(get_iou_vector, [label, pred >0], tf.float64)"
   ]
  },
  {
   "cell_type": "code",
   "execution_count": 19,
   "metadata": {
    "_uuid": "01d976e148adc235da239a8d679f0e31a99ddfc4"
   },
   "outputs": [],
   "source": [
    "def plot_history(history,metric_name):\n",
    "    fig, (ax_loss, ax_score) = plt.subplots(1, 2, figsize=(15,5))\n",
    "    ax_loss.plot(history.epoch, history.history[\"loss\"], label=\"Train loss\")\n",
    "    ax_loss.plot(history.epoch, history.history[\"val_loss\"], label=\"Validation loss\")\n",
    "    ax_loss.legend()\n",
    "    ax_score.plot(history.epoch, history.history[metric_name], label=\"Train score\")\n",
    "    ax_score.plot(history.epoch, history.history[\"val_\" + metric_name], label=\"Validation score\")\n",
    "    ax_score.legend()\n",
    "\n",
    "def predict_result(model,x_test,img_size_target): # predict both orginal and reflect x\n",
    "    x_test_reflect =  np.array([np.fliplr(x) for x in x_test])\n",
    "    preds_test = model.predict(x_test).reshape(-1, img_size_target, img_size_target)\n",
    "    preds_test2_refect = model.predict(x_test_reflect).reshape(-1, img_size_target, img_size_target)\n",
    "    preds_test += np.array([ np.fliplr(x) for x in preds_test2_refect] )\n",
    "    return preds_test/2"
   ]
  },
  {
   "cell_type": "code",
   "execution_count": 20,
   "metadata": {
    "_uuid": "55b23b16b3aa68ac4f744b6605e280b831346ecc"
   },
   "outputs": [],
   "source": [
    "def build_compile_model(lr = 0.01):\n",
    "    input_layer = Input((img_size_target, img_size_target, 1))\n",
    "    output_layer = build_model(input_layer, 16,0.5)\n",
    "\n",
    "    model1 = Model(input_layer, output_layer)\n",
    "\n",
    "    c = optimizers.Adam(lr = lr)\n",
    "    model1.compile(loss=\"binary_crossentropy\", optimizer=c, metrics=[my_iou_metric])\n",
    "    return model1"
   ]
  },
  {
   "cell_type": "markdown",
   "metadata": {},
   "source": [
    "## Training"
   ]
  },
  {
   "cell_type": "code",
   "execution_count": 21,
   "metadata": {
    "_uuid": "30622932f68888e895a9b8cac91810a1bb3c5e75"
   },
   "outputs": [
    {
     "name": "stdout",
     "output_type": "stream",
     "text": [
      "############################################\n",
      " Unet_resnet_v1_cv1\n",
      "Train on 6396 samples, validate on 802 samples\n",
      "Epoch 1/20\n",
      "\n",
      "Epoch 00001: val_my_iou_metric improved from -inf to 0.35399, saving model to Unet_resnet_v1_cv1.model\n",
      " - 49s - loss: 13.0797 - my_iou_metric: 0.3902 - val_loss: 22.0849 - val_my_iou_metric: 0.3540\n",
      "Epoch 2/20\n",
      "\n",
      "Epoch 00002: val_my_iou_metric improved from 0.35399 to 0.37157, saving model to Unet_resnet_v1_cv1.model\n",
      " - 23s - loss: 10.6823 - my_iou_metric: 0.4846 - val_loss: 26.2050 - val_my_iou_metric: 0.3716\n",
      "Epoch 3/20\n",
      "\n",
      "Epoch 00003: val_my_iou_metric improved from 0.37157 to 0.38666, saving model to Unet_resnet_v1_cv1.model\n",
      " - 23s - loss: 9.4735 - my_iou_metric: 0.5238 - val_loss: 11.6259 - val_my_iou_metric: 0.3867\n",
      "Epoch 4/20\n",
      "\n",
      "Epoch 00004: val_my_iou_metric improved from 0.38666 to 0.59464, saving model to Unet_resnet_v1_cv1.model\n",
      " - 23s - loss: 8.6198 - my_iou_metric: 0.5406 - val_loss: 11.2745 - val_my_iou_metric: 0.5946\n",
      "Epoch 5/20\n",
      "\n",
      "Epoch 00005: val_my_iou_metric did not improve from 0.59464\n",
      " - 22s - loss: 7.9476 - my_iou_metric: 0.5477 - val_loss: 12.0859 - val_my_iou_metric: 0.4864\n",
      "Epoch 6/20\n",
      "\n",
      "Epoch 00006: val_my_iou_metric did not improve from 0.59464\n",
      " - 22s - loss: 7.6842 - my_iou_metric: 0.5416 - val_loss: 19.7566 - val_my_iou_metric: 0.0895\n",
      "Epoch 7/20\n",
      "\n",
      "Epoch 00007: val_my_iou_metric did not improve from 0.59464\n",
      "\n",
      "Epoch 00007: ReduceLROnPlateau reducing learning rate to 0.004999999888241291.\n",
      " - 23s - loss: 7.5953 - my_iou_metric: 0.5710 - val_loss: 17.4042 - val_my_iou_metric: 0.3556\n",
      "Epoch 8/20\n",
      "\n",
      "Epoch 00008: val_my_iou_metric did not improve from 0.59464\n",
      " - 22s - loss: 6.6175 - my_iou_metric: 0.6023 - val_loss: 9.9455 - val_my_iou_metric: 0.5253\n",
      "Epoch 9/20\n",
      "\n",
      "Epoch 00009: val_my_iou_metric improved from 0.59464 to 0.66721, saving model to Unet_resnet_v1_cv1.model\n",
      " - 23s - loss: 6.3427 - my_iou_metric: 0.6225 - val_loss: 6.6294 - val_my_iou_metric: 0.6672\n",
      "Epoch 10/20\n",
      "\n",
      "Epoch 00010: val_my_iou_metric did not improve from 0.66721\n",
      " - 22s - loss: 6.3734 - my_iou_metric: 0.6241 - val_loss: 7.3545 - val_my_iou_metric: 0.6131\n",
      "Epoch 11/20\n",
      "\n",
      "Epoch 00011: val_my_iou_metric did not improve from 0.66721\n",
      " - 22s - loss: 5.8859 - my_iou_metric: 0.6449 - val_loss: 8.6010 - val_my_iou_metric: 0.6232\n",
      "Epoch 12/20\n",
      "\n",
      "Epoch 00012: val_my_iou_metric did not improve from 0.66721\n",
      "\n",
      "Epoch 00012: ReduceLROnPlateau reducing learning rate to 0.0024999999441206455.\n",
      " - 22s - loss: 5.8205 - my_iou_metric: 0.6477 - val_loss: 11.5648 - val_my_iou_metric: 0.4147\n",
      "Epoch 13/20\n",
      "\n",
      "Epoch 00013: val_my_iou_metric improved from 0.66721 to 0.68329, saving model to Unet_resnet_v1_cv1.model\n",
      " - 23s - loss: 5.4390 - my_iou_metric: 0.6699 - val_loss: 5.7702 - val_my_iou_metric: 0.6833\n",
      "Epoch 14/20\n",
      "\n",
      "Epoch 00014: val_my_iou_metric improved from 0.68329 to 0.70923, saving model to Unet_resnet_v1_cv1.model\n",
      " - 23s - loss: 5.2875 - my_iou_metric: 0.6695 - val_loss: 5.7542 - val_my_iou_metric: 0.7092\n",
      "Epoch 15/20\n",
      "\n",
      "Epoch 00015: val_my_iou_metric did not improve from 0.70923\n",
      " - 22s - loss: 5.1605 - my_iou_metric: 0.6724 - val_loss: 5.6360 - val_my_iou_metric: 0.7040\n",
      "Epoch 16/20\n",
      "\n",
      "Epoch 00016: val_my_iou_metric did not improve from 0.70923\n",
      " - 22s - loss: 5.0545 - my_iou_metric: 0.6787 - val_loss: 5.6490 - val_my_iou_metric: 0.6989\n",
      "Epoch 17/20\n",
      "\n",
      "Epoch 00017: val_my_iou_metric did not improve from 0.70923\n",
      "\n",
      "Epoch 00017: ReduceLROnPlateau reducing learning rate to 0.0012499999720603228.\n",
      " - 22s - loss: 4.8937 - my_iou_metric: 0.6905 - val_loss: 6.2247 - val_my_iou_metric: 0.6815\n",
      "Epoch 18/20\n",
      "\n",
      "Epoch 00018: val_my_iou_metric did not improve from 0.70923\n",
      " - 22s - loss: 4.8546 - my_iou_metric: 0.6914 - val_loss: 5.9931 - val_my_iou_metric: 0.7046\n",
      "Epoch 19/20\n",
      "\n",
      "Epoch 00019: val_my_iou_metric did not improve from 0.70923\n",
      " - 22s - loss: 4.5951 - my_iou_metric: 0.6971 - val_loss: 5.1825 - val_my_iou_metric: 0.7051\n",
      "Epoch 20/20\n",
      "\n",
      "Epoch 00020: val_my_iou_metric improved from 0.70923 to 0.72631, saving model to Unet_resnet_v1_cv1.model\n",
      " - 23s - loss: 4.4875 - my_iou_metric: 0.7032 - val_loss: 4.9741 - val_my_iou_metric: 0.7263\n",
      "############################################\n",
      " Unet_resnet_v1_cv2\n",
      "Train on 6398 samples, validate on 801 samples\n",
      "Epoch 1/20\n",
      "\n",
      "Epoch 00001: val_my_iou_metric improved from -inf to 0.13897, saving model to Unet_resnet_v1_cv2.model\n",
      " - 60s - loss: 13.0248 - my_iou_metric: 0.3727 - val_loss: 48.1528 - val_my_iou_metric: 0.1390\n",
      "Epoch 2/20\n",
      "\n",
      "Epoch 00002: val_my_iou_metric improved from 0.13897 to 0.40574, saving model to Unet_resnet_v1_cv2.model\n",
      " - 23s - loss: 10.5899 - my_iou_metric: 0.5163 - val_loss: 46.4919 - val_my_iou_metric: 0.4057\n",
      "Epoch 3/20\n",
      "\n",
      "Epoch 00003: val_my_iou_metric improved from 0.40574 to 0.49053, saving model to Unet_resnet_v1_cv2.model\n",
      " - 23s - loss: 9.2689 - my_iou_metric: 0.5450 - val_loss: 13.3103 - val_my_iou_metric: 0.4905\n",
      "Epoch 4/20\n",
      "\n",
      "Epoch 00004: val_my_iou_metric improved from 0.49053 to 0.57366, saving model to Unet_resnet_v1_cv2.model\n",
      " - 23s - loss: 8.1136 - my_iou_metric: 0.5640 - val_loss: 9.2619 - val_my_iou_metric: 0.5737\n",
      "Epoch 5/20\n",
      "\n",
      "Epoch 00005: val_my_iou_metric improved from 0.57366 to 0.61036, saving model to Unet_resnet_v1_cv2.model\n",
      " - 23s - loss: 7.4502 - my_iou_metric: 0.5721 - val_loss: 8.9118 - val_my_iou_metric: 0.6104\n",
      "Epoch 6/20\n",
      "\n",
      "Epoch 00006: val_my_iou_metric did not improve from 0.61036\n",
      " - 22s - loss: 7.3004 - my_iou_metric: 0.5938 - val_loss: 8.5413 - val_my_iou_metric: 0.5230\n",
      "Epoch 7/20\n",
      "\n",
      "Epoch 00007: val_my_iou_metric did not improve from 0.61036\n",
      " - 22s - loss: 7.0373 - my_iou_metric: 0.6043 - val_loss: 8.0774 - val_my_iou_metric: 0.6076\n",
      "Epoch 8/20\n",
      "\n",
      "Epoch 00008: val_my_iou_metric improved from 0.61036 to 0.64994, saving model to Unet_resnet_v1_cv2.model\n",
      " - 23s - loss: 6.9406 - my_iou_metric: 0.6151 - val_loss: 6.5082 - val_my_iou_metric: 0.6499\n",
      "Epoch 9/20\n",
      "\n",
      "Epoch 00009: val_my_iou_metric improved from 0.64994 to 0.67940, saving model to Unet_resnet_v1_cv2.model\n",
      " - 23s - loss: 6.3205 - my_iou_metric: 0.6342 - val_loss: 6.5377 - val_my_iou_metric: 0.6794\n",
      "Epoch 10/20\n",
      "\n",
      "Epoch 00010: val_my_iou_metric did not improve from 0.67940\n",
      " - 22s - loss: 6.0800 - my_iou_metric: 0.6435 - val_loss: 16.0341 - val_my_iou_metric: 0.5476\n",
      "Epoch 11/20\n",
      "\n",
      "Epoch 00011: val_my_iou_metric did not improve from 0.67940\n",
      " - 22s - loss: 5.8564 - my_iou_metric: 0.6554 - val_loss: 6.5362 - val_my_iou_metric: 0.6171\n",
      "Epoch 12/20\n",
      "\n",
      "Epoch 00012: val_my_iou_metric did not improve from 0.67940\n",
      "\n",
      "Epoch 00012: ReduceLROnPlateau reducing learning rate to 0.004999999888241291.\n",
      " - 24s - loss: 5.5752 - my_iou_metric: 0.6674 - val_loss: 8.1083 - val_my_iou_metric: 0.6619\n",
      "Epoch 13/20\n",
      "\n",
      "Epoch 00013: val_my_iou_metric improved from 0.67940 to 0.70612, saving model to Unet_resnet_v1_cv2.model\n",
      " - 23s - loss: 5.2018 - my_iou_metric: 0.6861 - val_loss: 5.4915 - val_my_iou_metric: 0.7061\n",
      "Epoch 14/20\n",
      "\n",
      "Epoch 00014: val_my_iou_metric did not improve from 0.70612\n",
      " - 22s - loss: 4.8371 - my_iou_metric: 0.7059 - val_loss: 4.9534 - val_my_iou_metric: 0.7059\n",
      "Epoch 15/20\n",
      "\n",
      "Epoch 00015: val_my_iou_metric improved from 0.70612 to 0.70662, saving model to Unet_resnet_v1_cv2.model\n",
      " - 23s - loss: 5.0100 - my_iou_metric: 0.6941 - val_loss: 5.3417 - val_my_iou_metric: 0.7066\n",
      "Epoch 16/20\n",
      "\n",
      "Epoch 00016: val_my_iou_metric improved from 0.70662 to 0.71461, saving model to Unet_resnet_v1_cv2.model\n",
      " - 23s - loss: 4.7158 - my_iou_metric: 0.7055 - val_loss: 5.1557 - val_my_iou_metric: 0.7146\n",
      "Epoch 17/20\n",
      "\n",
      "Epoch 00017: val_my_iou_metric did not improve from 0.71461\n",
      " - 22s - loss: 4.6423 - my_iou_metric: 0.7142 - val_loss: 5.0150 - val_my_iou_metric: 0.6940\n",
      "Epoch 18/20\n",
      "\n",
      "Epoch 00018: val_my_iou_metric did not improve from 0.71461\n",
      " - 22s - loss: 4.4427 - my_iou_metric: 0.7167 - val_loss: 4.9938 - val_my_iou_metric: 0.7090\n",
      "Epoch 19/20\n",
      "\n",
      "Epoch 00019: val_my_iou_metric improved from 0.71461 to 0.72509, saving model to Unet_resnet_v1_cv2.model\n",
      " - 23s - loss: 4.5006 - my_iou_metric: 0.7213 - val_loss: 4.8702 - val_my_iou_metric: 0.7251\n",
      "Epoch 20/20\n",
      "\n",
      "Epoch 00020: val_my_iou_metric improved from 0.72509 to 0.72984, saving model to Unet_resnet_v1_cv2.model\n",
      " - 23s - loss: 4.2817 - my_iou_metric: 0.7260 - val_loss: 4.6370 - val_my_iou_metric: 0.7298\n",
      "############################################\n",
      " Unet_resnet_v1_cv3\n",
      "Train on 6398 samples, validate on 801 samples\n",
      "Epoch 1/20\n"
     ]
    },
    {
     "name": "stdout",
     "output_type": "stream",
     "text": [
      "\n",
      "Epoch 00001: val_my_iou_metric improved from -inf to 0.39012, saving model to Unet_resnet_v1_cv3.model\n",
      " - 76s - loss: 13.3815 - my_iou_metric: 0.3814 - val_loss: 37.6466 - val_my_iou_metric: 0.3901\n",
      "Epoch 2/20\n",
      "\n",
      "Epoch 00002: val_my_iou_metric improved from 0.39012 to 0.54306, saving model to Unet_resnet_v1_cv3.model\n",
      " - 23s - loss: 10.9663 - my_iou_metric: 0.5145 - val_loss: 13.8780 - val_my_iou_metric: 0.5431\n",
      "Epoch 3/20\n",
      "\n",
      "Epoch 00003: val_my_iou_metric did not improve from 0.54306\n",
      " - 22s - loss: 9.6876 - my_iou_metric: 0.5327 - val_loss: 18.9921 - val_my_iou_metric: 0.5268\n",
      "Epoch 4/20\n",
      "\n",
      "Epoch 00004: val_my_iou_metric did not improve from 0.54306\n",
      " - 22s - loss: 8.4365 - my_iou_metric: 0.5432 - val_loss: 18.5693 - val_my_iou_metric: 0.4612\n",
      "Epoch 5/20\n",
      "\n",
      "Epoch 00005: val_my_iou_metric did not improve from 0.54306\n",
      "\n",
      "Epoch 00005: ReduceLROnPlateau reducing learning rate to 0.004999999888241291.\n",
      " - 25s - loss: 7.7731 - my_iou_metric: 0.5578 - val_loss: 30.8312 - val_my_iou_metric: 0.3645\n",
      "Epoch 6/20\n",
      "\n",
      "Epoch 00006: val_my_iou_metric improved from 0.54306 to 0.55367, saving model to Unet_resnet_v1_cv3.model\n",
      " - 24s - loss: 7.0579 - my_iou_metric: 0.5815 - val_loss: 9.2216 - val_my_iou_metric: 0.5537\n",
      "Epoch 7/20\n",
      "\n",
      "Epoch 00007: val_my_iou_metric did not improve from 0.55367\n",
      " - 22s - loss: 6.6130 - my_iou_metric: 0.5961 - val_loss: 8.7339 - val_my_iou_metric: 0.4946\n",
      "Epoch 8/20\n",
      "\n",
      "Epoch 00008: val_my_iou_metric improved from 0.55367 to 0.64960, saving model to Unet_resnet_v1_cv3.model\n",
      " - 23s - loss: 6.3296 - my_iou_metric: 0.6191 - val_loss: 5.7097 - val_my_iou_metric: 0.6496\n",
      "Epoch 9/20\n",
      "\n",
      "Epoch 00009: val_my_iou_metric did not improve from 0.64960\n",
      " - 22s - loss: 6.0964 - my_iou_metric: 0.6307 - val_loss: 10.3722 - val_my_iou_metric: 0.3951\n",
      "Epoch 10/20\n",
      "\n",
      "Epoch 00010: val_my_iou_metric did not improve from 0.64960\n",
      " - 22s - loss: 5.8776 - my_iou_metric: 0.6467 - val_loss: 14.8957 - val_my_iou_metric: 0.5329\n",
      "Epoch 11/20\n",
      "\n",
      "Epoch 00011: val_my_iou_metric improved from 0.64960 to 0.68650, saving model to Unet_resnet_v1_cv3.model\n",
      " - 23s - loss: 5.5413 - my_iou_metric: 0.6615 - val_loss: 5.6691 - val_my_iou_metric: 0.6865\n",
      "Epoch 12/20\n",
      "\n",
      "Epoch 00012: val_my_iou_metric did not improve from 0.68650\n",
      " - 22s - loss: 5.3575 - my_iou_metric: 0.6641 - val_loss: 6.7290 - val_my_iou_metric: 0.6140\n",
      "Epoch 13/20\n",
      "\n",
      "Epoch 00013: val_my_iou_metric did not improve from 0.68650\n",
      " - 22s - loss: 5.2743 - my_iou_metric: 0.6747 - val_loss: 9.1210 - val_my_iou_metric: 0.6293\n",
      "Epoch 14/20\n",
      "\n",
      "Epoch 00014: val_my_iou_metric improved from 0.68650 to 0.68713, saving model to Unet_resnet_v1_cv3.model\n",
      " - 23s - loss: 5.1271 - my_iou_metric: 0.6874 - val_loss: 5.3692 - val_my_iou_metric: 0.6871\n",
      "Epoch 15/20\n",
      "\n",
      "Epoch 00015: val_my_iou_metric did not improve from 0.68713\n",
      " - 22s - loss: 4.8425 - my_iou_metric: 0.6957 - val_loss: 5.7434 - val_my_iou_metric: 0.6815\n",
      "Epoch 16/20\n",
      "\n",
      "Epoch 00016: val_my_iou_metric did not improve from 0.68713\n",
      " - 22s - loss: 4.7981 - my_iou_metric: 0.6989 - val_loss: 6.1681 - val_my_iou_metric: 0.6851\n",
      "Epoch 17/20\n",
      "\n",
      "Epoch 00017: val_my_iou_metric did not improve from 0.68713\n",
      "\n",
      "Epoch 00017: ReduceLROnPlateau reducing learning rate to 0.0024999999441206455.\n",
      " - 22s - loss: 4.5465 - my_iou_metric: 0.7025 - val_loss: 4.9956 - val_my_iou_metric: 0.6848\n",
      "Epoch 18/20\n",
      "\n",
      "Epoch 00018: val_my_iou_metric improved from 0.68713 to 0.72308, saving model to Unet_resnet_v1_cv3.model\n",
      " - 23s - loss: 4.1896 - my_iou_metric: 0.7247 - val_loss: 4.8363 - val_my_iou_metric: 0.7231\n",
      "Epoch 19/20\n",
      "\n",
      "Epoch 00019: val_my_iou_metric improved from 0.72308 to 0.73657, saving model to Unet_resnet_v1_cv3.model\n",
      " - 24s - loss: 4.0939 - my_iou_metric: 0.7236 - val_loss: 4.4833 - val_my_iou_metric: 0.7366\n",
      "Epoch 20/20\n",
      "\n",
      "Epoch 00020: val_my_iou_metric improved from 0.73657 to 0.75030, saving model to Unet_resnet_v1_cv3.model\n",
      " - 24s - loss: 3.9035 - my_iou_metric: 0.7345 - val_loss: 4.3998 - val_my_iou_metric: 0.7503\n",
      "############################################\n",
      " Unet_resnet_v1_cv4\n",
      "Train on 6400 samples, validate on 800 samples\n",
      "Epoch 1/20\n",
      "\n",
      "Epoch 00001: val_my_iou_metric improved from -inf to 0.37037, saving model to Unet_resnet_v1_cv4.model\n",
      " - 104s - loss: 13.2950 - my_iou_metric: 0.3911 - val_loss: 22.2752 - val_my_iou_metric: 0.3704\n",
      "Epoch 2/20\n",
      "\n",
      "Epoch 00002: val_my_iou_metric did not improve from 0.37037\n",
      " - 23s - loss: 10.3305 - my_iou_metric: 0.5291 - val_loss: 31.0673 - val_my_iou_metric: 0.3120\n",
      "Epoch 3/20\n",
      "\n",
      "Epoch 00003: val_my_iou_metric did not improve from 0.37037\n",
      " - 23s - loss: 9.6178 - my_iou_metric: 0.5376 - val_loss: 21.8552 - val_my_iou_metric: 0.3375\n",
      "Epoch 4/20\n",
      "\n",
      "Epoch 00004: val_my_iou_metric improved from 0.37037 to 0.38875, saving model to Unet_resnet_v1_cv4.model\n",
      " - 24s - loss: 8.4838 - my_iou_metric: 0.5706 - val_loss: 23.6767 - val_my_iou_metric: 0.3887\n",
      "Epoch 5/20\n",
      "\n",
      "Epoch 00005: val_my_iou_metric improved from 0.38875 to 0.52587, saving model to Unet_resnet_v1_cv4.model\n",
      " - 24s - loss: 7.9533 - my_iou_metric: 0.5823 - val_loss: 9.5157 - val_my_iou_metric: 0.5259\n",
      "Epoch 6/20\n",
      "\n",
      "Epoch 00006: val_my_iou_metric improved from 0.52587 to 0.62987, saving model to Unet_resnet_v1_cv4.model\n",
      " - 24s - loss: 7.3008 - my_iou_metric: 0.6004 - val_loss: 7.2513 - val_my_iou_metric: 0.6299\n",
      "Epoch 7/20\n",
      "\n",
      "Epoch 00007: val_my_iou_metric did not improve from 0.62987\n",
      " - 23s - loss: 7.0738 - my_iou_metric: 0.6167 - val_loss: 9.2818 - val_my_iou_metric: 0.5915\n",
      "Epoch 8/20\n",
      "\n",
      "Epoch 00008: val_my_iou_metric improved from 0.62987 to 0.65138, saving model to Unet_resnet_v1_cv4.model\n",
      " - 24s - loss: 6.5939 - my_iou_metric: 0.6322 - val_loss: 6.2686 - val_my_iou_metric: 0.6514\n",
      "Epoch 9/20\n",
      "\n",
      "Epoch 00009: val_my_iou_metric did not improve from 0.65138\n",
      " - 23s - loss: 6.5002 - my_iou_metric: 0.6428 - val_loss: 9.1671 - val_my_iou_metric: 0.5390\n",
      "Epoch 10/20\n",
      "\n",
      "Epoch 00010: val_my_iou_metric did not improve from 0.65138\n",
      " - 23s - loss: 6.4648 - my_iou_metric: 0.6448 - val_loss: 7.6613 - val_my_iou_metric: 0.6316\n",
      "Epoch 11/20\n",
      "\n",
      "Epoch 00011: val_my_iou_metric did not improve from 0.65138\n",
      "\n",
      "Epoch 00011: ReduceLROnPlateau reducing learning rate to 0.004999999888241291.\n",
      " - 28s - loss: 5.8552 - my_iou_metric: 0.6593 - val_loss: 7.2144 - val_my_iou_metric: 0.6141\n",
      "Epoch 12/20\n",
      "\n",
      "Epoch 00012: val_my_iou_metric improved from 0.65138 to 0.69813, saving model to Unet_resnet_v1_cv4.model\n",
      " - 24s - loss: 5.2535 - my_iou_metric: 0.6900 - val_loss: 5.5946 - val_my_iou_metric: 0.6981\n",
      "Epoch 13/20\n",
      "\n",
      "Epoch 00013: val_my_iou_metric improved from 0.69813 to 0.69862, saving model to Unet_resnet_v1_cv4.model\n",
      " - 24s - loss: 5.0620 - my_iou_metric: 0.6933 - val_loss: 4.9321 - val_my_iou_metric: 0.6986\n",
      "Epoch 14/20\n",
      "\n",
      "Epoch 00014: val_my_iou_metric did not improve from 0.69862\n",
      " - 23s - loss: 4.9707 - my_iou_metric: 0.6991 - val_loss: 11.7394 - val_my_iou_metric: 0.5767\n",
      "Epoch 15/20\n",
      "\n",
      "Epoch 00015: val_my_iou_metric improved from 0.69862 to 0.71575, saving model to Unet_resnet_v1_cv4.model\n",
      " - 24s - loss: 4.9983 - my_iou_metric: 0.7043 - val_loss: 5.2006 - val_my_iou_metric: 0.7157\n",
      "Epoch 16/20\n",
      "\n",
      "Epoch 00016: val_my_iou_metric did not improve from 0.71575\n",
      " - 23s - loss: 4.7798 - my_iou_metric: 0.7085 - val_loss: 5.2504 - val_my_iou_metric: 0.6594\n",
      "Epoch 17/20\n",
      "\n",
      "Epoch 00017: val_my_iou_metric did not improve from 0.71575\n",
      " - 23s - loss: 4.8851 - my_iou_metric: 0.7008 - val_loss: 6.6006 - val_my_iou_metric: 0.6605\n",
      "Epoch 18/20\n",
      "\n",
      "Epoch 00018: val_my_iou_metric improved from 0.71575 to 0.72725, saving model to Unet_resnet_v1_cv4.model\n",
      " - 24s - loss: 4.6656 - my_iou_metric: 0.7039 - val_loss: 4.5516 - val_my_iou_metric: 0.7273\n",
      "Epoch 19/20\n",
      "\n",
      "Epoch 00019: val_my_iou_metric did not improve from 0.72725\n",
      " - 23s - loss: 4.5368 - my_iou_metric: 0.7172 - val_loss: 5.0801 - val_my_iou_metric: 0.7169\n",
      "Epoch 20/20\n",
      "\n",
      "Epoch 00020: val_my_iou_metric did not improve from 0.72725\n",
      " - 23s - loss: 4.4859 - my_iou_metric: 0.7169 - val_loss: 6.5945 - val_my_iou_metric: 0.7090\n",
      "############################################\n",
      " Unet_resnet_v1_cv5\n",
      "Train on 6408 samples, validate on 796 samples\n",
      "Epoch 1/20\n",
      "\n",
      "Epoch 00001: val_my_iou_metric improved from -inf to 0.36357, saving model to Unet_resnet_v1_cv5.model\n",
      " - 124s - loss: 13.7250 - my_iou_metric: 0.3738 - val_loss: 28.7662 - val_my_iou_metric: 0.3636\n",
      "Epoch 2/20\n",
      "\n",
      "Epoch 00002: val_my_iou_metric improved from 0.36357 to 0.39183, saving model to Unet_resnet_v1_cv5.model\n"
     ]
    },
    {
     "name": "stdout",
     "output_type": "stream",
     "text": [
      " - 24s - loss: 10.9253 - my_iou_metric: 0.4961 - val_loss: 20.0063 - val_my_iou_metric: 0.3918\n",
      "Epoch 3/20\n",
      "\n",
      "Epoch 00003: val_my_iou_metric improved from 0.39183 to 0.57249, saving model to Unet_resnet_v1_cv5.model\n",
      " - 24s - loss: 9.0541 - my_iou_metric: 0.5265 - val_loss: 11.8080 - val_my_iou_metric: 0.5725\n",
      "Epoch 4/20\n",
      "\n",
      "Epoch 00004: val_my_iou_metric improved from 0.57249 to 0.60980, saving model to Unet_resnet_v1_cv5.model\n",
      " - 24s - loss: 8.3415 - my_iou_metric: 0.5615 - val_loss: 11.2636 - val_my_iou_metric: 0.6098\n",
      "Epoch 5/20\n",
      "\n",
      "Epoch 00005: val_my_iou_metric did not improve from 0.60980\n",
      " - 23s - loss: 7.6750 - my_iou_metric: 0.5740 - val_loss: 7.8692 - val_my_iou_metric: 0.5617\n",
      "Epoch 6/20\n",
      "\n",
      "Epoch 00006: val_my_iou_metric improved from 0.60980 to 0.63128, saving model to Unet_resnet_v1_cv5.model\n",
      " - 24s - loss: 7.1848 - my_iou_metric: 0.5985 - val_loss: 7.7604 - val_my_iou_metric: 0.6313\n",
      "Epoch 7/20\n",
      "\n",
      "Epoch 00007: val_my_iou_metric did not improve from 0.63128\n",
      " - 23s - loss: 6.5973 - my_iou_metric: 0.6256 - val_loss: 11.1850 - val_my_iou_metric: 0.5957\n",
      "Epoch 8/20\n",
      "\n",
      "Epoch 00008: val_my_iou_metric improved from 0.63128 to 0.65226, saving model to Unet_resnet_v1_cv5.model\n",
      " - 24s - loss: 6.4993 - my_iou_metric: 0.6307 - val_loss: 7.0552 - val_my_iou_metric: 0.6523\n",
      "Epoch 9/20\n",
      "\n",
      "Epoch 00009: val_my_iou_metric did not improve from 0.65226\n",
      " - 23s - loss: 6.2067 - my_iou_metric: 0.6425 - val_loss: 18.2945 - val_my_iou_metric: 0.3842\n",
      "Epoch 10/20\n",
      "\n",
      "Epoch 00010: val_my_iou_metric did not improve from 0.65226\n",
      " - 23s - loss: 5.7732 - my_iou_metric: 0.6602 - val_loss: 14.7869 - val_my_iou_metric: 0.6219\n",
      "Epoch 11/20\n",
      "\n",
      "Epoch 00011: val_my_iou_metric improved from 0.65226 to 0.71420, saving model to Unet_resnet_v1_cv5.model\n",
      " - 24s - loss: 5.5919 - my_iou_metric: 0.6675 - val_loss: 4.8034 - val_my_iou_metric: 0.7142\n",
      "Epoch 12/20\n",
      "\n",
      "Epoch 00012: val_my_iou_metric did not improve from 0.71420\n",
      " - 23s - loss: 5.4684 - my_iou_metric: 0.6708 - val_loss: 6.9637 - val_my_iou_metric: 0.7060\n",
      "Epoch 13/20\n",
      "\n",
      "Epoch 00013: val_my_iou_metric did not improve from 0.71420\n",
      " - 23s - loss: 5.3517 - my_iou_metric: 0.6813 - val_loss: 5.2561 - val_my_iou_metric: 0.6974\n",
      "Epoch 14/20\n",
      "\n",
      "Epoch 00014: val_my_iou_metric did not improve from 0.71420\n",
      "\n",
      "Epoch 00014: ReduceLROnPlateau reducing learning rate to 0.004999999888241291.\n",
      " - 30s - loss: 5.5034 - my_iou_metric: 0.6775 - val_loss: 17.0736 - val_my_iou_metric: 0.5036\n",
      "Epoch 15/20\n",
      "\n",
      "Epoch 00015: val_my_iou_metric improved from 0.71420 to 0.73882, saving model to Unet_resnet_v1_cv5.model\n",
      " - 24s - loss: 4.7327 - my_iou_metric: 0.7056 - val_loss: 4.3603 - val_my_iou_metric: 0.7388\n",
      "Epoch 16/20\n",
      "\n",
      "Epoch 00016: val_my_iou_metric improved from 0.73882 to 0.75477, saving model to Unet_resnet_v1_cv5.model\n",
      " - 24s - loss: 4.4474 - my_iou_metric: 0.7222 - val_loss: 4.0845 - val_my_iou_metric: 0.7548\n",
      "Epoch 17/20\n",
      "\n",
      "Epoch 00017: val_my_iou_metric did not improve from 0.75477\n",
      " - 23s - loss: 4.2662 - my_iou_metric: 0.7300 - val_loss: 5.0636 - val_my_iou_metric: 0.7303\n",
      "Epoch 18/20\n",
      "\n",
      "Epoch 00018: val_my_iou_metric improved from 0.75477 to 0.76420, saving model to Unet_resnet_v1_cv5.model\n",
      " - 24s - loss: 4.1913 - my_iou_metric: 0.7258 - val_loss: 4.0029 - val_my_iou_metric: 0.7642\n",
      "Epoch 19/20\n",
      "\n",
      "Epoch 00019: val_my_iou_metric did not improve from 0.76420\n",
      " - 23s - loss: 4.2195 - my_iou_metric: 0.7255 - val_loss: 4.5293 - val_my_iou_metric: 0.7415\n",
      "Epoch 20/20\n",
      "\n",
      "Epoch 00020: val_my_iou_metric did not improve from 0.76420\n",
      " - 23s - loss: 4.1852 - my_iou_metric: 0.7320 - val_loss: 4.3071 - val_my_iou_metric: 0.7403\n"
     ]
    },
    {
     "data": {
      "image/png": "[encoded data removed]",
      "text/plain": [
       "<Figure size 1080x360 with 2 Axes>"
      ]
     },
     "metadata": {
      "needs_background": "light"
     },
     "output_type": "display_data"
    },
    {
     "data": {
      "image/png": "[encoded data removed]",
      "text/plain": [
       "<Figure size 1080x360 with 2 Axes>"
      ]
     },
     "metadata": {
      "needs_background": "light"
     },
     "output_type": "display_data"
    },
    {
     "data": {
      "image/png": "[encoded data removed]",
      "text/plain": [
       "<Figure size 1080x360 with 2 Axes>"
      ]
     },
     "metadata": {
      "needs_background": "light"
     },
     "output_type": "display_data"
    },
    {
     "data": {
      "image/png": "[encoded data removed]",
      "text/plain": [
       "<Figure size 1080x360 with 2 Axes>"
      ]
     },
     "metadata": {
      "needs_background": "light"
     },
     "output_type": "display_data"
    },
    {
     "data": {
      "image/png": "[encoded data removed]",
      "text/plain": [
       "<Figure size 1080x360 with 2 Axes>"
      ]
     },
     "metadata": {
      "needs_background": "light"
     },
     "output_type": "display_data"
    }
   ],
   "source": [
    "# training\n",
    "ious = [0] * cv_total\n",
    "for cv_index in range(cv_total):\n",
    "    basic_name = f'Unet_resnet_v{version}_cv{cv_index+1}'\n",
    "    print('############################################\\n', basic_name)\n",
    "    save_model_name = basic_name + '.model'\n",
    "    \n",
    "    x_train, y_train, x_valid, y_valid =  get_cv_data(cv_index+1)\n",
    "    \n",
    "    #Data augmentation\n",
    "    x_train = np.append(x_train, [np.fliplr(x) for x in x_train], axis=0)\n",
    "    y_train = np.append(y_train, [np.fliplr(x) for x in y_train], axis=0)\n",
    "\n",
    "    model = build_compile_model(lr = 0.01)\n",
    "\n",
    "    model_checkpoint = ModelCheckpoint(save_model_name,monitor='val_my_iou_metric', \n",
    "                                   mode = 'max', save_best_only=True, verbose=1)\n",
    "    reduce_lr = ReduceLROnPlateau(monitor='val_my_iou_metric', mode = 'max',\n",
    "                                  factor=0.5, patience=3, min_lr=0.0001, verbose=1)\n",
    "\n",
    "    epochs = 20 #small number for demonstration \n",
    "    batch_size = 32\n",
    "    history = model.fit(x_train, y_train,\n",
    "                        validation_data=[x_valid, y_valid], \n",
    "                        epochs=epochs,\n",
    "                        batch_size=batch_size,\n",
    "                        callbacks=[ model_checkpoint,reduce_lr], \n",
    "                        verbose=2)\n",
    "    plot_history(history,'my_iou_metric')\n",
    "    \n",
    "    model.load_weights(save_model_name)\n",
    "    \n",
    "    preds_valid = predict_result(model,x_valid,img_size_target)\n",
    "    ious[cv_index] = get_iou_vector(y_valid, (preds_valid > 0.5))\n",
    "    \n",
    "#model1.summary()"
   ]
  },
  {
   "cell_type": "code",
   "execution_count": 22,
   "metadata": {
    "_uuid": "9de0c7646478423ddede8f16c631ca9c842d040e"
   },
   "outputs": [
    {
     "name": "stdout",
     "output_type": "stream",
     "text": [
      "cv 0 ious = 0.7314214463840399\n",
      "cv 1 ious = 0.7423220973782774\n",
      "cv 2 ious = 0.7503121098626716\n",
      "cv 3 ious = 0.7367500000000001\n",
      "cv 4 ious = 0.7657035175879398\n"
     ]
    }
   ],
   "source": [
    "for cv_index in range(cv_total):\n",
    "    print(f\"cv {cv_index} ious = {ious[cv_index]}\")"
   ]
  },
  {
   "cell_type": "markdown",
   "metadata": {},
   "source": [
    "## Test\n",
    "Load, predict, and submit the test image predictions"
   ]
  },
  {
   "cell_type": "code",
   "execution_count": 23,
   "metadata": {
    "_uuid": "452d89840bc86c630f13c3d63d0700ab4ad27b1b"
   },
   "outputs": [
    {
     "data": {
      "application/vnd.jupyter.widget-view+json": {
       "model_id": "ea8890f0129c4597b2a169baa816ef90",
       "version_major": 2,
       "version_minor": 0
      },
      "text/plain": [
       "HBox(children=(IntProgress(value=0, max=18000), HTML(value='')))"
      ]
     },
     "metadata": {},
     "output_type": "display_data"
    },
    {
     "name": "stdout",
     "output_type": "stream",
     "text": [
      "\n"
     ]
    }
   ],
   "source": [
    "x_test = np.array([(np.array(load_img(os.path.join(data_dir, \"test/images/{}.png\".format(idx)), color_mode='grayscale'))) / 255 for idx in tqdm_notebook(test_df.index)]).reshape(-1, img_size_target, img_size_target, 1)\n"
   ]
  },
  {
   "cell_type": "code",
   "execution_count": 24,
   "metadata": {
    "_uuid": "f68651e1ce6ad9a461c8f1a25a1250fd489adfed"
   },
   "outputs": [
    {
     "name": "stdout",
     "output_type": "stream",
     "text": [
      "Usedtime = 165.6633265018463 s\n"
     ]
    }
   ],
   "source": [
    "# average the predictions from different folds\n",
    "t1 = time.time()\n",
    "preds_test = np.zeros(np.squeeze(x_test).shape)\n",
    "for cv_index in range(cv_total):\n",
    "    basic_name = f'Unet_resnet_v{version}_cv{cv_index+1}'\n",
    "    model.load_weights(basic_name + '.model')\n",
    "    preds_test += predict_result(model,x_test,img_size_target) /cv_total\n",
    "    \n",
    "t2 = time.time()\n",
    "print(f\"Usedtime = {t2-t1} s\")"
   ]
  },
  {
   "cell_type": "code",
   "execution_count": 25,
   "metadata": {
    "_uuid": "1ad6a747a0e32945572cafe870b48d34ab05dc46"
   },
   "outputs": [],
   "source": [
    "\"\"\"\n",
    "used for converting the decoded image to rle mask\n",
    "Fast compared to previous one\n",
    "\"\"\"\n",
    "def rle_encode(im):\n",
    "    '''\n",
    "    im: numpy array, 1 - mask, 0 - background\n",
    "    Returns run length as string formated\n",
    "    '''\n",
    "    pixels = im.flatten(order = 'F')\n",
    "    pixels = np.concatenate([[0], pixels, [0]])\n",
    "    runs = np.where(pixels[1:] != pixels[:-1])[0] + 1\n",
    "    runs[1::2] -= runs[::2]\n",
    "    return ' '.join(str(x) for x in runs)"
   ]
  },
  {
   "cell_type": "code",
   "execution_count": 26,
   "metadata": {
    "_uuid": "7ccac81a492b9caaff4a25401165e145cf2c6f8e"
   },
   "outputs": [
    {
     "data": {
      "application/vnd.jupyter.widget-view+json": {
       "model_id": "5a8104b9d30f40b281400255aaa82df1",
       "version_major": 2,
       "version_minor": 0
      },
      "text/plain": [
       "HBox(children=(IntProgress(value=0, max=18000), HTML(value='')))"
      ]
     },
     "metadata": {},
     "output_type": "display_data"
    },
    {
     "name": "stdout",
     "output_type": "stream",
     "text": [
      "\n",
      "Usedtime = 1.582017421722412 s\n"
     ]
    }
   ],
   "source": [
    "\n",
    "t1 = time.time()\n",
    "threshold  = 0.5 # some value in range 0.4- 0.5 may be better \n",
    "pred_dict = {idx: rle_encode(np.round(preds_test[i]) > threshold) for i, idx in enumerate(tqdm_notebook(test_df.index.values))}\n",
    "t2 = time.time()\n",
    "\n",
    "print(f\"Usedtime = {t2-t1} s\")"
   ]
  },
  {
   "cell_type": "code",
   "execution_count": 27,
   "metadata": {
    "_uuid": "770d7d596656f4f1ad17a6063ad662ac80e11b24"
   },
   "outputs": [],
   "source": [
    "sub = pd.DataFrame.from_dict(pred_dict,orient='index')\n",
    "sub.index.names = ['id']\n",
    "sub.columns = ['rle_mask']\n",
    "sub.to_csv(submission_file)"
   ]
  },
  {
   "cell_type": "code",
   "execution_count": 28,
   "metadata": {
    "_uuid": "c89c406884ee54bee2c57aff51b116c157553ae9"
   },
   "outputs": [
    {
     "name": "stdout",
     "output_type": "stream",
     "text": [
      "Kernel run time = 0.8090659265385733 hours\n"
     ]
    }
   ],
   "source": [
    "t_finish = time.time()\n",
    "print(f\"Kernel run time = {(t_finish-t_start)/3600} hours\")"
   ]
  },
  {
   "cell_type": "code",
   "execution_count": null,
   "metadata": {
    "_uuid": "a3009187c164635fbe163bd8ce406c2e309b1e5f"
   },
   "outputs": [],
   "source": []
  }
 ],
 "metadata": {
  "kernelspec": {
   "display_name": "Python 3",
   "language": "python",
   "name": "python3"
  },
  "language_info": {
   "codemirror_mode": {
    "name": "ipython",
    "version": 3
   },
   "file_extension": ".py",
   "mimetype": "text/x-python",
   "name": "python",
   "nbconvert_exporter": "python",
   "pygments_lexer": "ipython3",
   "version": "3.6.5"
  }
 },
 "nbformat": 4,
 "nbformat_minor": 1
}
